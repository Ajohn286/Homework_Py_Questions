{
 "cells": [
  {
   "cell_type": "markdown",
   "id": "7c20165e",
   "metadata": {},
   "source": [
    "# Exercise #1\n",
    "Accept two user ages as inputs and give us the difference between them. (The Answer should always be a positive output("
   ]
  },
  {
   "cell_type": "code",
   "execution_count": null,
   "id": "50d6ffad",
   "metadata": {},
   "outputs": [],
   "source": []
  },
  {
   "cell_type": "code",
   "execution_count": null,
   "id": "0326d776",
   "metadata": {},
   "outputs": [],
   "source": []
  },
  {
   "cell_type": "code",
   "execution_count": null,
   "id": "81e8d01a",
   "metadata": {},
   "outputs": [],
   "source": [
    "age_1 = input(\"Person 1 what is your age\")\n",
    "age_2 = input(\"Person 2 what is your age\")\n",
    "\n",
    "diff_age = abs(int(age_1)-int(age_2))\n",
    "        \n",
    "print(f\"you all are {diff_age} years apart\")"
   ]
  },
  {
   "cell_type": "markdown",
   "id": "174a793e",
   "metadata": {},
   "source": [
    "# Exercise #2\n",
    "Accept 3 user inputs for variables named noun, verb and adjective. Print out a formatted string using the outputs."
   ]
  },
  {
   "cell_type": "code",
   "execution_count": null,
   "id": "88e42ab6",
   "metadata": {},
   "outputs": [],
   "source": [
    "noun = input(\"Pick a noun\")\n",
    "verb = input(\"Pick a verb\")\n",
    "adj = input(\"Pick an adjective\")\n",
    "\n",
    "print(f\"The {noun} was a {adj} and {verb} all day long!\")"
   ]
  },
  {
   "cell_type": "markdown",
   "id": "974c28e3",
   "metadata": {},
   "source": [
    "# Exercise #3\n",
    "Take in a users input for their age, if they are younger than 18 print kids, if they're 18 to 65 print adults, else print seniors"
   ]
  },
  {
   "cell_type": "code",
   "execution_count": null,
   "id": "d414107a",
   "metadata": {},
   "outputs": [],
   "source": [
    "age_1 = input(\"Person 1 what is your age\")\n",
    "\n",
    "if int(age_1) <= 18:\n",
    "    print(\"You're a child go home.....\")\n",
    "elif int(age_1) >= 65:\n",
    "    print(\"The revolutionary war must've been crazy ehh?\")\n",
    "else:\n",
    "    print(\"Adulting sucks enjoy the stock market....\")"
   ]
  },
  {
   "cell_type": "markdown",
   "id": "c7375510",
   "metadata": {},
   "source": [
    "# Exercise #4\n",
    "Take in a number from a user input. Square and Cube that number"
   ]
  },
  {
   "cell_type": "code",
   "execution_count": 5,
   "id": "f3b8b3ca",
   "metadata": {},
   "outputs": [
    {
     "name": "stdout",
     "output_type": "stream",
     "text": [
      "What is your number2\n",
      "Would you like the number cubed or squaredasjkhfskla\n",
      "Please choose squared or cubedcubed\n"
     ]
    }
   ],
   "source": [
    "num = input(\"What is your number\")\n",
    "\n",
    "square = int(num)**2\n",
    "cubed = int(num)**3\n",
    "\n",
    "choice = input(\"Would you like the number cubed or squared\")\n",
    "\n",
    "if choice == \"squared\":\n",
    "    print(square)\n",
    "elif choice == \"cubed\":\n",
    "     print(cubed)\n",
    "else:\n",
    "    input(\"Please choose squared or cubed\")\n",
    "    if choice == \"squared\":\n",
    "        print(square)\n",
    "    elif choice == \"cubed\":\n",
    "        print(cubed)\n",
    "    "
   ]
  },
  {
   "cell_type": "code",
   "execution_count": null,
   "id": "210b1216",
   "metadata": {},
   "outputs": [],
   "source": []
  },
  {
   "cell_type": "code",
   "execution_count": null,
   "id": "7afa21ca",
   "metadata": {},
   "outputs": [],
   "source": []
  }
 ],
 "metadata": {
  "kernelspec": {
   "display_name": "Python 3 (ipykernel)",
   "language": "python",
   "name": "python3"
  },
  "language_info": {
   "codemirror_mode": {
    "name": "ipython",
    "version": 3
   },
   "file_extension": ".py",
   "mimetype": "text/x-python",
   "name": "python",
   "nbconvert_exporter": "python",
   "pygments_lexer": "ipython3",
   "version": "3.9.13"
  }
 },
 "nbformat": 4,
 "nbformat_minor": 5
}
